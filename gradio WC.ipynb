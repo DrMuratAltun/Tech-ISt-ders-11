{
 "cells": [
  {
   "cell_type": "markdown",
   "id": "2a90fbff",
   "metadata": {},
   "source": [
    "## Gradio WC Uygulaması ## "
   ]
  },
  {
   "cell_type": "code",
   "execution_count": 1,
   "id": "be250f6c",
   "metadata": {
    "collapsed": true
   },
   "outputs": [
    {
     "name": "stdout",
     "output_type": "stream",
     "text": [
      "Defaulting to user installation because normal site-packages is not writeableNote: you may need to restart the kernel to use updated packages.\n",
      "\n",
      "Requirement already satisfied: gradio in c:\\users\\emura\\appdata\\roaming\\python\\python311\\site-packages (4.18.0)\n",
      "Requirement already satisfied: aiofiles<24.0,>=22.0 in c:\\programdata\\anaconda3\\lib\\site-packages (from gradio) (22.1.0)\n",
      "Requirement already satisfied: altair<6.0,>=4.2.0 in c:\\users\\emura\\appdata\\roaming\\python\\python311\\site-packages (from gradio) (5.2.0)\n",
      "Requirement already satisfied: fastapi in c:\\users\\emura\\appdata\\roaming\\python\\python311\\site-packages (from gradio) (0.109.2)\n",
      "Requirement already satisfied: ffmpy in c:\\users\\emura\\appdata\\roaming\\python\\python311\\site-packages (from gradio) (0.3.2)\n",
      "Requirement already satisfied: gradio-client==0.10.0 in c:\\users\\emura\\appdata\\roaming\\python\\python311\\site-packages (from gradio) (0.10.0)\n",
      "Requirement already satisfied: httpx in c:\\users\\emura\\appdata\\roaming\\python\\python311\\site-packages (from gradio) (0.13.3)\n",
      "Requirement already satisfied: huggingface-hub>=0.19.3 in c:\\users\\emura\\appdata\\roaming\\python\\python311\\site-packages (from gradio) (0.20.1)\n",
      "Requirement already satisfied: importlib-resources<7.0,>=1.3 in c:\\users\\emura\\appdata\\roaming\\python\\python311\\site-packages (from gradio) (6.1.1)\n",
      "Requirement already satisfied: jinja2<4.0 in c:\\programdata\\anaconda3\\lib\\site-packages (from gradio) (3.1.2)\n",
      "Requirement already satisfied: markupsafe~=2.0 in c:\\programdata\\anaconda3\\lib\\site-packages (from gradio) (2.1.1)\n",
      "Requirement already satisfied: matplotlib~=3.0 in c:\\programdata\\anaconda3\\lib\\site-packages (from gradio) (3.7.2)\n",
      "Requirement already satisfied: numpy~=1.0 in c:\\programdata\\anaconda3\\lib\\site-packages (from gradio) (1.24.3)\n",
      "Requirement already satisfied: orjson~=3.0 in c:\\users\\emura\\appdata\\roaming\\python\\python311\\site-packages (from gradio) (3.9.15)\n",
      "Requirement already satisfied: packaging in c:\\users\\emura\\appdata\\roaming\\python\\python311\\site-packages (from gradio) (23.2)\n",
      "Requirement already satisfied: pandas<3.0,>=1.0 in c:\\programdata\\anaconda3\\lib\\site-packages (from gradio) (2.0.3)\n",
      "Requirement already satisfied: pillow<11.0,>=8.0 in c:\\programdata\\anaconda3\\lib\\site-packages (from gradio) (9.4.0)\n",
      "Requirement already satisfied: pydantic>=2.0 in c:\\users\\emura\\appdata\\roaming\\python\\python311\\site-packages (from gradio) (2.6.1)\n",
      "Requirement already satisfied: pydub in c:\\users\\emura\\appdata\\roaming\\python\\python311\\site-packages (from gradio) (0.25.1)\n",
      "Requirement already satisfied: python-multipart in c:\\users\\emura\\appdata\\roaming\\python\\python311\\site-packages (from gradio) (0.0.9)\n",
      "Requirement already satisfied: pyyaml<7.0,>=5.0 in c:\\users\\emura\\appdata\\roaming\\python\\python311\\site-packages (from gradio) (6.0.1)\n",
      "Requirement already satisfied: ruff>=0.1.7 in c:\\users\\emura\\appdata\\roaming\\python\\python311\\site-packages (from gradio) (0.2.1)\n",
      "Requirement already satisfied: semantic-version~=2.0 in c:\\users\\emura\\appdata\\roaming\\python\\python311\\site-packages (from gradio) (2.10.0)\n",
      "Requirement already satisfied: tomlkit==0.12.0 in c:\\users\\emura\\appdata\\roaming\\python\\python311\\site-packages (from gradio) (0.12.0)\n",
      "Requirement already satisfied: typer<1.0,>=0.9 in c:\\users\\emura\\appdata\\roaming\\python\\python311\\site-packages (from typer[all]<1.0,>=0.9->gradio) (0.9.0)\n",
      "Requirement already satisfied: typing-extensions~=4.0 in c:\\users\\emura\\appdata\\roaming\\python\\python311\\site-packages (from gradio) (4.9.0)\n",
      "Requirement already satisfied: uvicorn>=0.14.0 in c:\\users\\emura\\appdata\\roaming\\python\\python311\\site-packages (from gradio) (0.27.1)\n",
      "Requirement already satisfied: fsspec in c:\\users\\emura\\appdata\\roaming\\python\\python311\\site-packages (from gradio-client==0.10.0->gradio) (2023.12.2)\n",
      "Requirement already satisfied: websockets<12.0,>=10.0 in c:\\users\\emura\\appdata\\roaming\\python\\python311\\site-packages (from gradio-client==0.10.0->gradio) (10.4)\n",
      "Requirement already satisfied: jsonschema>=3.0 in c:\\users\\emura\\appdata\\roaming\\python\\python311\\site-packages (from altair<6.0,>=4.2.0->gradio) (4.21.1)\n",
      "Requirement already satisfied: toolz in c:\\programdata\\anaconda3\\lib\\site-packages (from altair<6.0,>=4.2.0->gradio) (0.12.0)\n",
      "Requirement already satisfied: filelock in c:\\programdata\\anaconda3\\lib\\site-packages (from huggingface-hub>=0.19.3->gradio) (3.9.0)\n",
      "Requirement already satisfied: requests in c:\\users\\emura\\appdata\\roaming\\python\\python311\\site-packages (from huggingface-hub>=0.19.3->gradio) (2.31.0)\n",
      "Requirement already satisfied: tqdm>=4.42.1 in c:\\users\\emura\\appdata\\roaming\\python\\python311\\site-packages (from huggingface-hub>=0.19.3->gradio) (4.66.2)\n",
      "Requirement already satisfied: contourpy>=1.0.1 in c:\\programdata\\anaconda3\\lib\\site-packages (from matplotlib~=3.0->gradio) (1.0.5)\n",
      "Requirement already satisfied: cycler>=0.10 in c:\\programdata\\anaconda3\\lib\\site-packages (from matplotlib~=3.0->gradio) (0.11.0)\n",
      "Requirement already satisfied: fonttools>=4.22.0 in c:\\programdata\\anaconda3\\lib\\site-packages (from matplotlib~=3.0->gradio) (4.25.0)\n",
      "Requirement already satisfied: kiwisolver>=1.0.1 in c:\\programdata\\anaconda3\\lib\\site-packages (from matplotlib~=3.0->gradio) (1.4.4)\n",
      "Requirement already satisfied: pyparsing<3.1,>=2.3.1 in c:\\programdata\\anaconda3\\lib\\site-packages (from matplotlib~=3.0->gradio) (3.0.9)\n",
      "Requirement already satisfied: python-dateutil>=2.7 in c:\\programdata\\anaconda3\\lib\\site-packages (from matplotlib~=3.0->gradio) (2.8.2)\n",
      "Requirement already satisfied: pytz>=2020.1 in c:\\programdata\\anaconda3\\lib\\site-packages (from pandas<3.0,>=1.0->gradio) (2023.3.post1)\n",
      "Requirement already satisfied: tzdata>=2022.1 in c:\\users\\emura\\appdata\\roaming\\python\\python311\\site-packages (from pandas<3.0,>=1.0->gradio) (2024.1)\n",
      "Requirement already satisfied: annotated-types>=0.4.0 in c:\\users\\emura\\appdata\\roaming\\python\\python311\\site-packages (from pydantic>=2.0->gradio) (0.6.0)\n",
      "Requirement already satisfied: pydantic-core==2.16.2 in c:\\users\\emura\\appdata\\roaming\\python\\python311\\site-packages (from pydantic>=2.0->gradio) (2.16.2)\n",
      "Requirement already satisfied: click<9.0.0,>=7.1.1 in c:\\programdata\\anaconda3\\lib\\site-packages (from typer<1.0,>=0.9->typer[all]<1.0,>=0.9->gradio) (8.0.4)\n",
      "Requirement already satisfied: colorama<0.5.0,>=0.4.3 in c:\\programdata\\anaconda3\\lib\\site-packages (from typer[all]<1.0,>=0.9->gradio) (0.4.6)\n",
      "Requirement already satisfied: shellingham<2.0.0,>=1.3.0 in c:\\users\\emura\\appdata\\roaming\\python\\python311\\site-packages (from typer[all]<1.0,>=0.9->gradio) (1.5.4)\n",
      "Requirement already satisfied: rich<14.0.0,>=10.11.0 in c:\\users\\emura\\appdata\\roaming\\python\\python311\\site-packages (from typer[all]<1.0,>=0.9->gradio) (13.7.0)\n",
      "Requirement already satisfied: h11>=0.8 in c:\\users\\emura\\appdata\\roaming\\python\\python311\\site-packages (from uvicorn>=0.14.0->gradio) (0.9.0)\n",
      "Requirement already satisfied: starlette<0.37.0,>=0.36.3 in c:\\users\\emura\\appdata\\roaming\\python\\python311\\site-packages (from fastapi->gradio) (0.36.3)\n",
      "Requirement already satisfied: certifi in c:\\programdata\\anaconda3\\lib\\site-packages (from httpx->gradio) (2023.7.22)\n",
      "Requirement already satisfied: hstspreload in c:\\users\\emura\\appdata\\roaming\\python\\python311\\site-packages (from httpx->gradio) (2024.2.1)\n",
      "Requirement already satisfied: sniffio in c:\\users\\emura\\appdata\\roaming\\python\\python311\\site-packages (from httpx->gradio) (1.3.1)\n",
      "Requirement already satisfied: chardet==3.* in c:\\users\\emura\\appdata\\roaming\\python\\python311\\site-packages (from httpx->gradio) (3.0.4)\n",
      "Requirement already satisfied: idna==2.* in c:\\users\\emura\\appdata\\roaming\\python\\python311\\site-packages (from httpx->gradio) (2.10)\n",
      "Requirement already satisfied: rfc3986<2,>=1.3 in c:\\users\\emura\\appdata\\roaming\\python\\python311\\site-packages (from httpx->gradio) (1.5.0)\n",
      "Requirement already satisfied: httpcore==0.9.* in c:\\users\\emura\\appdata\\roaming\\python\\python311\\site-packages (from httpx->gradio) (0.9.1)\n",
      "Requirement already satisfied: h2==3.* in c:\\users\\emura\\appdata\\roaming\\python\\python311\\site-packages (from httpcore==0.9.*->httpx->gradio) (3.2.0)\n",
      "Requirement already satisfied: hyperframe<6,>=5.2.0 in c:\\users\\emura\\appdata\\roaming\\python\\python311\\site-packages (from h2==3.*->httpcore==0.9.*->httpx->gradio) (5.2.0)\n",
      "Requirement already satisfied: hpack<4,>=3.0 in c:\\users\\emura\\appdata\\roaming\\python\\python311\\site-packages (from h2==3.*->httpcore==0.9.*->httpx->gradio) (3.0.0)\n",
      "Requirement already satisfied: attrs>=22.2.0 in c:\\users\\emura\\appdata\\roaming\\python\\python311\\site-packages (from jsonschema>=3.0->altair<6.0,>=4.2.0->gradio) (23.2.0)\n",
      "Requirement already satisfied: jsonschema-specifications>=2023.03.6 in c:\\users\\emura\\appdata\\roaming\\python\\python311\\site-packages (from jsonschema>=3.0->altair<6.0,>=4.2.0->gradio) (2023.12.1)\n",
      "Requirement already satisfied: referencing>=0.28.4 in c:\\users\\emura\\appdata\\roaming\\python\\python311\\site-packages (from jsonschema>=3.0->altair<6.0,>=4.2.0->gradio) (0.33.0)\n",
      "Requirement already satisfied: rpds-py>=0.7.1 in c:\\users\\emura\\appdata\\roaming\\python\\python311\\site-packages (from jsonschema>=3.0->altair<6.0,>=4.2.0->gradio) (0.18.0)\n",
      "Requirement already satisfied: six>=1.5 in c:\\programdata\\anaconda3\\lib\\site-packages (from python-dateutil>=2.7->matplotlib~=3.0->gradio) (1.16.0)\n",
      "Requirement already satisfied: markdown-it-py>=2.2.0 in c:\\programdata\\anaconda3\\lib\\site-packages (from rich<14.0.0,>=10.11.0->typer[all]<1.0,>=0.9->gradio) (2.2.0)\n",
      "Requirement already satisfied: pygments<3.0.0,>=2.13.0 in c:\\programdata\\anaconda3\\lib\\site-packages (from rich<14.0.0,>=10.11.0->typer[all]<1.0,>=0.9->gradio) (2.15.1)\n",
      "Requirement already satisfied: anyio<5,>=3.4.0 in c:\\programdata\\anaconda3\\lib\\site-packages (from starlette<0.37.0,>=0.36.3->fastapi->gradio) (3.5.0)\n",
      "Requirement already satisfied: charset-normalizer<4,>=2 in c:\\programdata\\anaconda3\\lib\\site-packages (from requests->huggingface-hub>=0.19.3->gradio) (2.0.4)\n",
      "Requirement already satisfied: urllib3<3,>=1.21.1 in c:\\programdata\\anaconda3\\lib\\site-packages (from requests->huggingface-hub>=0.19.3->gradio) (1.26.16)\n",
      "Requirement already satisfied: mdurl~=0.1 in c:\\programdata\\anaconda3\\lib\\site-packages (from markdown-it-py>=2.2.0->rich<14.0.0,>=10.11.0->typer[all]<1.0,>=0.9->gradio) (0.1.0)\n"
     ]
    }
   ],
   "source": [
    "#pip install gradio"
   ]
  },
  {
   "cell_type": "code",
   "execution_count": 2,
   "id": "3641243c",
   "metadata": {
    "scrolled": true
   },
   "outputs": [
    {
     "name": "stdout",
     "output_type": "stream",
     "text": [
      "Defaulting to user installation because normal site-packages is not writeable\n",
      "Requirement already satisfied: stylecloud in c:\\users\\emura\\appdata\\roaming\\python\\python311\\site-packages (0.5.2)\n",
      "Requirement already satisfied: wordcloud in c:\\users\\emura\\appdata\\roaming\\python\\python311\\site-packages (from stylecloud) (1.9.3)\n",
      "Requirement already satisfied: icon-font-to-png in c:\\users\\emura\\appdata\\roaming\\python\\python311\\site-packages (from stylecloud) (0.4.1)\n",
      "Requirement already satisfied: palettable in c:\\users\\emura\\appdata\\roaming\\python\\python311\\site-packages (from stylecloud) (3.3.3)\n",
      "Requirement already satisfied: fire in c:\\users\\emura\\appdata\\roaming\\python\\python311\\site-packages (from stylecloud) (0.5.0)\n",
      "Requirement already satisfied: matplotlib in c:\\programdata\\anaconda3\\lib\\site-packages (from stylecloud) (3.7.2)\n",
      "Requirement already satisfied: six in c:\\programdata\\anaconda3\\lib\\site-packages (from fire->stylecloud) (1.16.0)\n",
      "Requirement already satisfied: termcolor in c:\\users\\emura\\appdata\\roaming\\python\\python311\\site-packages (from fire->stylecloud) (2.4.0)\n",
      "Requirement already satisfied: Pillow>=4.0.0 in c:\\programdata\\anaconda3\\lib\\site-packages (from icon-font-to-png->stylecloud) (9.4.0)\n",
      "Requirement already satisfied: requests>=2.12.5 in c:\\users\\emura\\appdata\\roaming\\python\\python311\\site-packages (from icon-font-to-png->stylecloud) (2.31.0)\n",
      "Requirement already satisfied: tinycss>=0.4 in c:\\users\\emura\\appdata\\roaming\\python\\python311\\site-packages (from icon-font-to-png->stylecloud) (0.4)\n",
      "Requirement already satisfied: contourpy>=1.0.1 in c:\\programdata\\anaconda3\\lib\\site-packages (from matplotlib->stylecloud) (1.0.5)\n",
      "Requirement already satisfied: cycler>=0.10 in c:\\programdata\\anaconda3\\lib\\site-packages (from matplotlib->stylecloud) (0.11.0)\n",
      "Requirement already satisfied: fonttools>=4.22.0 in c:\\programdata\\anaconda3\\lib\\site-packages (from matplotlib->stylecloud) (4.25.0)\n",
      "Requirement already satisfied: kiwisolver>=1.0.1 in c:\\programdata\\anaconda3\\lib\\site-packages (from matplotlib->stylecloud) (1.4.4)\n",
      "Requirement already satisfied: numpy>=1.20 in c:\\programdata\\anaconda3\\lib\\site-packages (from matplotlib->stylecloud) (1.24.3)\n",
      "Requirement already satisfied: packaging>=20.0 in c:\\users\\emura\\appdata\\roaming\\python\\python311\\site-packages (from matplotlib->stylecloud) (23.2)\n",
      "Requirement already satisfied: pyparsing<3.1,>=2.3.1 in c:\\programdata\\anaconda3\\lib\\site-packages (from matplotlib->stylecloud) (3.0.9)\n",
      "Requirement already satisfied: python-dateutil>=2.7 in c:\\programdata\\anaconda3\\lib\\site-packages (from matplotlib->stylecloud) (2.8.2)\n",
      "Requirement already satisfied: charset-normalizer<4,>=2 in c:\\programdata\\anaconda3\\lib\\site-packages (from requests>=2.12.5->icon-font-to-png->stylecloud) (2.0.4)\n",
      "Requirement already satisfied: idna<4,>=2.5 in c:\\users\\emura\\appdata\\roaming\\python\\python311\\site-packages (from requests>=2.12.5->icon-font-to-png->stylecloud) (2.10)\n",
      "Requirement already satisfied: urllib3<3,>=1.21.1 in c:\\programdata\\anaconda3\\lib\\site-packages (from requests>=2.12.5->icon-font-to-png->stylecloud) (1.26.16)\n",
      "Requirement already satisfied: certifi>=2017.4.17 in c:\\programdata\\anaconda3\\lib\\site-packages (from requests>=2.12.5->icon-font-to-png->stylecloud) (2023.7.22)\n",
      "Note: you may need to restart the kernel to use updated packages.\n"
     ]
    }
   ],
   "source": [
    "#pip install stylecloud"
   ]
  },
  {
   "cell_type": "code",
   "execution_count": 5,
   "id": "34bfd03d",
   "metadata": {
    "collapsed": true
   },
   "outputs": [
    {
     "name": "stdout",
     "output_type": "stream",
     "text": [
      "Help on package stylecloud:\n",
      "\n",
      "NAME\n",
      "    stylecloud\n",
      "\n",
      "PACKAGE CONTENTS\n",
      "    stylecloud\n",
      "\n",
      "FILE\n",
      "    c:\\users\\emura\\appdata\\roaming\\python\\python311\\site-packages\\stylecloud\\__init__.py\n",
      "\n",
      "\n"
     ]
    }
   ],
   "source": [
    "help(stylecloud)"
   ]
  },
  {
   "cell_type": "code",
   "execution_count": null,
   "id": "cf2898ff",
   "metadata": {},
   "outputs": [],
   "source": [
    "#pip uninstall stylecloud\n",
    "#pip install stylecloud==0.5.2"
   ]
  },
  {
   "cell_type": "code",
   "execution_count": 7,
   "id": "cfb3d8e1",
   "metadata": {},
   "outputs": [
    {
     "data": {
      "text/plain": [
       "'9.4.0'"
      ]
     },
     "execution_count": 7,
     "metadata": {},
     "output_type": "execute_result"
    }
   ],
   "source": [
    "import PIL\n",
    "PIL.__version__"
   ]
  },
  {
   "cell_type": "code",
   "execution_count": 1,
   "id": "bfecd6e1",
   "metadata": {},
   "outputs": [
    {
     "name": "stdout",
     "output_type": "stream",
     "text": [
      "Running on local URL:  http://127.0.0.1:7860\n",
      "IMPORTANT: You are using gradio version 4.18.0, however version 4.29.0 is available, please upgrade.\n",
      "--------\n",
      "Running on public URL: https://ad0fa67087de7f04f4.gradio.live\n",
      "\n",
      "This share link expires in 72 hours. For free permanent hosting and GPU upgrades, run `gradio deploy` from Terminal to deploy to Spaces (https://huggingface.co/spaces)\n"
     ]
    },
    {
     "data": {
      "text/html": [
       "<div><iframe src=\"https://ad0fa67087de7f04f4.gradio.live\" width=\"100%\" height=\"500\" allow=\"autoplay; camera; microphone; clipboard-read; clipboard-write;\" frameborder=\"0\" allowfullscreen></iframe></div>"
      ],
      "text/plain": [
       "<IPython.core.display.HTML object>"
      ]
     },
     "metadata": {},
     "output_type": "display_data"
    },
    {
     "data": {
      "text/plain": []
     },
     "execution_count": 1,
     "metadata": {},
     "output_type": "execute_result"
    },
    {
     "name": "stderr",
     "output_type": "stream",
     "text": [
      "Traceback (most recent call last):\n",
      "  File \"C:\\Users\\emura\\AppData\\Roaming\\Python\\Python311\\site-packages\\gradio\\queueing.py\", line 495, in call_prediction\n",
      "    output = await route_utils.call_process_api(\n",
      "             ^^^^^^^^^^^^^^^^^^^^^^^^^^^^^^^^^^^\n",
      "  File \"C:\\Users\\emura\\AppData\\Roaming\\Python\\Python311\\site-packages\\gradio\\route_utils.py\", line 231, in call_process_api\n",
      "    output = await app.get_blocks().process_api(\n",
      "             ^^^^^^^^^^^^^^^^^^^^^^^^^^^^^^^^^^^\n",
      "  File \"C:\\Users\\emura\\AppData\\Roaming\\Python\\Python311\\site-packages\\gradio\\blocks.py\", line 1591, in process_api\n",
      "    result = await self.call_function(\n",
      "             ^^^^^^^^^^^^^^^^^^^^^^^^^\n",
      "  File \"C:\\Users\\emura\\AppData\\Roaming\\Python\\Python311\\site-packages\\gradio\\blocks.py\", line 1176, in call_function\n",
      "    prediction = await anyio.to_thread.run_sync(\n",
      "                 ^^^^^^^^^^^^^^^^^^^^^^^^^^^^^^^\n",
      "  File \"C:\\ProgramData\\anaconda3\\Lib\\site-packages\\anyio\\to_thread.py\", line 28, in run_sync\n",
      "    return await get_asynclib().run_sync_in_worker_thread(func, *args, cancellable=cancellable,\n",
      "           ^^^^^^^^^^^^^^^^^^^^^^^^^^^^^^^^^^^^^^^^^^^^^^^^^^^^^^^^^^^^^^^^^^^^^^^^^^^^^^^^^^^^\n",
      "  File \"C:\\ProgramData\\anaconda3\\Lib\\site-packages\\anyio\\_backends\\_asyncio.py\", line 818, in run_sync_in_worker_thread\n",
      "    return await future\n",
      "           ^^^^^^^^^^^^\n",
      "  File \"C:\\ProgramData\\anaconda3\\Lib\\site-packages\\anyio\\_backends\\_asyncio.py\", line 754, in run\n",
      "    result = context.run(func, *args)\n",
      "             ^^^^^^^^^^^^^^^^^^^^^^^^\n",
      "  File \"C:\\Users\\emura\\AppData\\Roaming\\Python\\Python311\\site-packages\\gradio\\utils.py\", line 678, in wrapper\n",
      "    response = f(*args, **kwargs)\n",
      "               ^^^^^^^^^^^^^^^^^^\n",
      "  File \"C:\\Users\\emura\\AppData\\Local\\Temp\\ipykernel_2848\\992519759.py\", line 8, in create_stylecloud\n",
      "    text=file.decode(\"utf-8\")\n",
      "         ^^^^^^^^^^^^^^^^^^^^\n",
      "UnicodeDecodeError: 'utf-8' codec can't decode byte 0xd2 in position 16: invalid continuation byte\n"
     ]
    }
   ],
   "source": [
    "import gradio as gr\n",
    "import stylecloud\n",
    "from PIL import Image\n",
    "import os\n",
    "#fonksiyon tanımla\n",
    "def create_stylecloud(file,language,icon):\n",
    "    #icon kodları için :https://fontawesome.com/icons\n",
    "    text=file.decode(\"utf-8\")\n",
    "    output_file='stylecloud.png'\n",
    "    \n",
    "    #kelime bulutu oluştur\n",
    "    stylecloud.gen_stylecloud(\n",
    "        text=text,\n",
    "        icon_name=icon,\n",
    "        size=500,\n",
    "        output_name=output_file,\n",
    "    )\n",
    "    #oluşturlan kelime bulutunun dosya adı\n",
    "    return output_file\n",
    "'''\n",
    "Extra paretmetreler\n",
    " palette=\"cartocolors.qualitative.Bold_10\",\n",
    "        gradient=\"horizontal\",\n",
    "        background_color=\"white\",\n",
    "        collocations=False\n",
    "'''\n",
    "#Gradio arayüzünü oluştur\n",
    "with gr.Blocks() as demo:\n",
    "    gr.Markdown('Kelime Bulutu Oluşturucu')\n",
    "    with gr.Row():\n",
    "        file_input=gr.File(label='Metin dosyasını yükle', type='binary')\n",
    "        language=gr.Radio(choices=['TR', 'En'],label='Dil Seçimi', value='TR')\n",
    "        icon=gr.Dropdown(choices=[\"fas fa-car\", \"fas fa-star-and-crescent\", \"fas fa-trophy\", \"fas fa-heart\"],\n",
    "                        label='İkon seçimi',value=\"fas fa-car\")\n",
    "        output_file=gr.File(label='Kelime Bulutunu indir')\n",
    "        create_button=gr.Button('Oluştur')\n",
    "        #butona basıldığında\n",
    "        create_button.click(\n",
    "        create_stylecloud,\n",
    "        inputs=[file_input,language,icon],\n",
    "        outputs=output_file\n",
    "        )\n",
    "demo.launch(share=True) #share=True public lnk verir"
   ]
  },
  {
   "cell_type": "code",
   "execution_count": null,
   "id": "9bc3554f",
   "metadata": {},
   "outputs": [],
   "source": []
  }
 ],
 "metadata": {
  "kernelspec": {
   "display_name": "Python 3 (ipykernel)",
   "language": "python",
   "name": "python3"
  },
  "language_info": {
   "codemirror_mode": {
    "name": "ipython",
    "version": 3
   },
   "file_extension": ".py",
   "mimetype": "text/x-python",
   "name": "python",
   "nbconvert_exporter": "python",
   "pygments_lexer": "ipython3",
   "version": "3.11.5"
  }
 },
 "nbformat": 4,
 "nbformat_minor": 5
}
